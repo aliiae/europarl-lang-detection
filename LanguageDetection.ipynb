{
 "cells": [
  {
   "cell_type": "markdown",
   "metadata": {},
   "source": [
    "# Language Detection Challenge"
   ]
  },
  {
   "cell_type": "markdown",
   "metadata": {},
   "source": [
    "The goal of the challenge is to detect the language of given sentences, using the data from the European Parliament Proceedings Parallel Corpus."
   ]
  },
  {
   "cell_type": "markdown",
   "metadata": {},
   "source": [
    "### Data Preprocessing"
   ]
  },
  {
   "cell_type": "markdown",
   "metadata": {},
   "source": [
    "In this challenge, both [training](http://www.statmt.org/europarl/) and [test](https://storage.googleapis.com/google-code-archive-downloads/v2/code.google.com/language-detection/europarl-test.zip) sets are predefined and taken from the European Parliament Proceedings Parallel Corpus (EuroParl), so there is no conflict between training and testing domains.\n",
    "\n",
    "The EuroParl corpus contains 21 languages from six groups: Romanic (French `fr`, Italian `it`, Spanish `es`, Portuguese `pt`, Romanian `ro`), Germanic (English `en`, Dutch `nl`, German `de`, Danish `da`, Swedish `sv`), Slavic (Bulgarian `bg`, Czech `cs`, Polish `pl`, Slovak `sk`, Slovene `sl`), Finni-Ugric (Finnish `fi`, Hungarian `hu`, Estonian `es`), Baltic (Latvian `lv`, Lithuanian `lt`), and Greek `el` ([source](http://www.statmt.org/europarl/)). The different groups have different alphabets, which suggests using character/subword based methods for the task. Also, all of the given languages use whitespace to delimit words.\n",
    "\n",
    "I have already downloaded and unzipped them into a local folder. Note that preprocessing functions are documented in the separate `utils.py` script."
   ]
  },
  {
   "cell_type": "code",
   "execution_count": 1,
   "metadata": {
    "collapsed": true
   },
   "outputs": [],
   "source": [
    "CORPUS_FOLDER = \"txt\"\n",
    "TEST_PATH = \"europarl.test\""
   ]
  },
  {
   "cell_type": "markdown",
   "metadata": {},
   "source": [
    "Since EuroParl is a parallel corpus, we have the opportunity to choose such files (days of Parliament meetings) that are represented in all the 21 languages -- this way we will avoid any skewness/imbalance in language distribution. It also seems that a model can benefit from the fact that texts are identical contentwise across labels, potentially focusing on distinction between language features and not relying on topical differences (i.e., perform domain-independent identification)."
   ]
  },
  {
   "cell_type": "code",
   "execution_count": 2,
   "metadata": {},
   "outputs": [
    {
     "name": "stdout",
     "output_type": "stream",
     "text": [
      "Overlapping filenames: 6228\n"
     ]
    }
   ],
   "source": [
    "from utils import _get_files_overlap\n",
    "print(\"Overlapping filenames:\", len(_get_files_overlap(CORPUS_FOLDER)))"
   ]
  },
  {
   "cell_type": "markdown",
   "metadata": {},
   "source": [
    "I will use a generic (English) word tokenizer and sentence splitter from [Moses](http://www.statmt.org/moses/). There is no need to specify tokenizer's `lang` since we are not supposed to know the language in advance."
   ]
  },
  {
   "cell_type": "code",
   "execution_count": 3,
   "metadata": {
    "collapsed": true
   },
   "outputs": [],
   "source": [
    "from mosestokenizer import MosesSentenceSplitter, MosesTokenizer"
   ]
  },
  {
   "cell_type": "markdown",
   "metadata": {},
   "source": [
    "For double checking and making sure that train and test sets do not overlap, each preprocessed training sentence is looked up in a set of preprocessed test sentences, and skipped if it is present. For evaluation, the test set is also saved in the same format as training sentences (below)."
   ]
  },
  {
   "cell_type": "code",
   "execution_count": 4,
   "metadata": {
    "collapsed": true
   },
   "outputs": [],
   "source": [
    "from utils import process_test_set"
   ]
  },
  {
   "cell_type": "markdown",
   "metadata": {},
   "source": [
    "The following function extracts for each language sentences from every line, ignoring XML tags, short sentences ($<2$ tokens), duplicate sentences, and sentences overlapping with the test set. It then tokenizes and lowercases each sentence, and removes punctuation marks and digits. The latter is done with the assumption that punctuation and numbers are not informative for language identification. The function can limit the maximum number of files per language, but we will rely on the whole set of the parallel docs in the corpus (6228 files). The sentences are saved on disk as text files for later access."
   ]
  },
  {
   "cell_type": "code",
   "execution_count": 5,
   "metadata": {
    "collapsed": true
   },
   "outputs": [],
   "source": [
    "import os\n",
    "from utils import write_sentences\n",
    "\n",
    "TEST_SET = \"test.txt\"  # tokenized version of the test set\n",
    "\n",
    "output_train_folder = \"train\"\n",
    "if not os.path.isdir(output_train_folder):\n",
    "    os.makedirs(output_train_folder)\n",
    "    langs = write_sentences(CORPUS_FOLDER, output_train_folder,\n",
    "                            test_set=TEST_PATH,\n",
    "                            test_output=TEST_SET,\n",
    "                            max_files=float(\"inf\"))\n",
    "else:\n",
    "    langs = [\"sl\", \"sk\", \"pl\", \"sv\", \"da\", \"el\", \"lv\", \"it\", \"cs\",\n",
    "             \"ro\", \"pt\", \"hu\", \"nl\", \"bg\", \"de\", \"fi\", \"fr\", \"es\",\n",
    "             \"et\", \"en\", \"lt\"]"
   ]
  },
  {
   "cell_type": "markdown",
   "metadata": {},
   "source": [
    "Number of sentences and tokens for each language (below); the number of sentences (examples) is comparable across languages:"
   ]
  },
  {
   "cell_type": "code",
   "execution_count": 6,
   "metadata": {},
   "outputs": [
    {
     "name": "stdout",
     "output_type": "stream",
     "text": [
      " 7664366 155200530 total\n"
     ]
    },
    {
     "data": {
      "image/png": "[encoded data removed]",
      "text/plain": [
       "<matplotlib.figure.Figure at 0x10d003f60>"
      ]
     },
     "metadata": {},
     "output_type": "display_data"
    }
   ],
   "source": [
    "%matplotlib inline\n",
    "import matplotlib.pyplot as plt\n",
    "plt.rcParams[\"figure.figsize\"] = 10, 5\n",
    "\n",
    "lines = !wc -l -w {output_train_folder}/*.txt\n",
    "print(lines[-1])\n",
    "lines = [line.split() for line in lines[:-1]]\n",
    "sents = sorted(((line[-1].split(\"/\")[-1][:2],\n",
    "                 int(line[0])) for line in lines), key=lambda x: -x[1])\n",
    "keys, sents = zip(*sents)\n",
    "\n",
    "plt.barh(range(len(keys)), sents, align='center');\n",
    "plt.yticks(range(len(keys)), keys);\n",
    "plt.xlabel('# sentences');\n",
    "plt.ylabel('languages');"
   ]
  },
  {
   "cell_type": "code",
   "execution_count": 7,
   "metadata": {},
   "outputs": [
    {
     "data": {
      "image/png": "[encoded data removed]",
      "text/plain": [
       "<matplotlib.figure.Figure at 0x10b767b00>"
      ]
     },
     "metadata": {},
     "output_type": "display_data"
    }
   ],
   "source": [
    "words = {line[-1].split(\"/\")[-1][:2]: int(line[1]) for line in lines}\n",
    "keys, sents = zip(*[(key, words[key]) for key in keys])\n",
    "\n",
    "plt.barh(range(len(keys)), sents, align='center');\n",
    "plt.yticks(range(len(keys)), keys);\n",
    "plt.xlabel('# tokens');\n",
    "plt.ylabel('languages');"
   ]
  },
  {
   "cell_type": "markdown",
   "metadata": {},
   "source": [
    "## Language Identification"
   ]
  },
  {
   "cell_type": "markdown",
   "metadata": {},
   "source": [
    "[Jauhiainen et al. (2018)](https://arxiv.org/abs/1804.08186) present a comprehensive survey of various approaches taken in the task of language identification and classification, including the notion of domain-independent identification mentioned above. They list numerous techniques, among which linear methods remain most efficient.\n",
    "\n",
    "Due to the availability of a large training corpus, the [`fastText`](https://github.com/facebookresearch/fastText) model seems as a good fit because of fast implementation, which allows processing the entire multilingual parallel subcorpus (155M tokens) in feasible time (3.5 minutes on 2,3 GHz Intel Core i7). `fastText` is a linear bag of words classifier that constructs sentence representation by averaging constituent word vectors (in turn, bags of subword vectors) and yields class probabilities using either softmax or hierarchical softmax ([Zolotov, 2016](https://arxiv.org/abs/1702.05531)).\n",
    "\n",
    "`fastText`'s developers describe its use for language identification and report the accuracy of $98.7\\%$ on European Governance Papers ([Grave et al. (2018)](https://arxiv.org/pdf/1802.06893.pdf)).\n",
    "`fastText` has also been used in dialect identification by [Çöltekin and Rama (2016)](http://coltekin.net/cagri/papers/coltekin2016dsl.pdf) where it showed suboptimal results (probably due to the difficulty of the task for dialects and closely related languages, as well as smaller training data)."
   ]
  },
  {
   "cell_type": "markdown",
   "metadata": {},
   "source": [
    "#### Baseline: basic dictionary\n",
    "As a baseline, we use a simple word count based approach where each unique token is annotated by the most frequent language it occurred in, and at the inference time, a test sentence is assigned the label of the majority of its constituent words (ties are broken arbitrarily). If the majority of words are unseen in the training set, the sentence is tagged with the `UNK` label.\n",
    "\n",
    "This model relies heavily on the training set being diverse enough in terms of vocabulary, and there is a memory trade-off depending on a word frequency threshold ($O(V)$ where $V$ is the number of unique tokens in the corpus with frequency higher than the cut, e.g., 2M for the whole parallel corpus without setting a threshold)."
   ]
  },
  {
   "cell_type": "code",
   "execution_count": 8,
   "metadata": {},
   "outputs": [
    {
     "data": {
      "text/plain": [
       "['en', 'de', 'UNK']"
      ]
     },
     "execution_count": 8,
     "metadata": {},
     "output_type": "execute_result"
    }
   ],
   "source": [
    "from baseline import Baseline\n",
    "\n",
    "example = Baseline()\n",
    "example._vocab = {\"this\": \"en\", \"is\": \"en\", \"a\": \"en\", \"house\": \"en\",\n",
    "                  \"das\": \"de\", \"ist\": \"de\", \"ein\": \"de\", \"haus\": \"de\"}\n",
    "example.predict([[\"this\", \"is\", \"a\", \"oov\"],\n",
    "                 [\"das\", \"ist\", \"ein\", \"oov\"],\n",
    "                 [\"many\", \"out\", \"of\", \"vocab\"]])"
   ]
  },
  {
   "cell_type": "markdown",
   "metadata": {},
   "source": [
    "#### fastText: linear bag-of-words"
   ]
  },
  {
   "cell_type": "markdown",
   "metadata": {
    "collapsed": true
   },
   "source": [
    "`fastText` can be downloaded and installed from [here](https://github.com/facebookresearch/fastText).\n",
    "\n",
    "Let's now prepare the dataset for the training of a fastText classification model. We will need to prepend labels (language id) to each example, concatenate all files together, and shuffle them."
   ]
  },
  {
   "cell_type": "code",
   "execution_count": 9,
   "metadata": {
    "collapsed": true
   },
   "outputs": [],
   "source": [
    "LABEL_PREFIX = \"__label__\"\n",
    "fast_train_folder = \"train_fast\"\n",
    "if not os.path.isdir(fast_train_folder):\n",
    "    os.makedirs(fast_train_folder, exist_ok=True)\n",
    "    for lang in langs:\n",
    "        !sed 's/^/{LABEL_PREFIX}{lang} /' {output_train_folder}/{lang}.txt > {fast_train_folder}/{lang}.txt\n",
    "    !cat {fast_train_folder}/*.txt | gshuf > \"all_train_labeled_shuf.txt\""
   ]
  },
  {
   "cell_type": "markdown",
   "metadata": {},
   "source": [
    "Moreover, I will secure some of the training data for validation purposes (since the data are randomly shuffled, I assume that the last $X\\%$ of rows also represent the original training distribution)."
   ]
  },
  {
   "cell_type": "code",
   "execution_count": 10,
   "metadata": {
    "collapsed": true
   },
   "outputs": [],
   "source": [
    "def prep_data(train_size=None, dev_proportion=0.1, name=\"\"):\n",
    "    \"\"\"Divides the data file into separate train and dev set files.\"\"\"\n",
    "    train_set, dev_set = f\"train_{name}.txt\", f\"dev_{name}.txt\"\n",
    "    if not train_size:\n",
    "        total_lines = !wc -l < \"all_train_labeled_shuf.txt\"\n",
    "        train_size = int(total_lines[0])\n",
    "        \n",
    "    if dev_proportion < 1.0:  # percentage         \n",
    "        dev = int(train_size * dev_proportion)\n",
    "        train = train_size - dev\n",
    "        assert train + dev == train_size, (train + dev, train_size)\n",
    "    else:\n",
    "        dev = dev_proportion\n",
    "        train = train_size\n",
    "\n",
    "\n",
    "    print(\"Lines in train:\", train)\n",
    "    print(\"Lines in dev:\", dev)\n",
    "\n",
    "    !head -n {train} \"all_train_labeled_shuf.txt\" > {train_set}\n",
    "    !tail -n {dev} \"all_train_labeled_shuf.txt\" > {dev_set}\n",
    "    return train_set, dev_set"
   ]
  },
  {
   "cell_type": "markdown",
   "metadata": {},
   "source": [
    "#### Training a baseline model"
   ]
  },
  {
   "cell_type": "markdown",
   "metadata": {},
   "source": [
    "We will start with a baseline model (word count threshold is 2) and see its performance on a dev set.\n",
    "(**NB**: The corpus is quite large, so for initial experiments I will limit the maximum number of sentences per language.)"
   ]
  },
  {
   "cell_type": "code",
   "execution_count": 11,
   "metadata": {},
   "outputs": [
    {
     "name": "stdout",
     "output_type": "stream",
     "text": [
      "Lines in train: 10500\n",
      "Lines in dev: 1000\n"
     ]
    }
   ],
   "source": [
    "from sklearn.metrics import accuracy_score\n",
    "from baseline import read_labeled_sents\n",
    "\n",
    "MAX_LINES_PER_LANG = 500  # * 21 = 10500 lines\n",
    "train_set, dev_set = prep_data(MAX_LINES_PER_LANG * len(langs),\n",
    "                               1000, name=\"default\")"
   ]
  },
  {
   "cell_type": "code",
   "execution_count": 12,
   "metadata": {},
   "outputs": [
    {
     "name": "stdout",
     "output_type": "stream",
     "text": [
      "Dev acc: 0.957\n",
      "CPU times: user 416 ms, sys: 20.5 ms, total: 436 ms\n",
      "Wall time: 435 ms\n"
     ]
    }
   ],
   "source": [
    "%%time\n",
    "dev_labels, dev_sents = read_labeled_sents(dev_set)\n",
    "baseline = Baseline(train_set, min_count=2)\n",
    "base_acc = accuracy_score(dev_labels, baseline.predict(dev_sents))\n",
    "print(\"Dev acc: {:.3f}\".format(base_acc))"
   ]
  },
  {
   "cell_type": "markdown",
   "metadata": {},
   "source": [
    "#### Training a (default) fastText classification model"
   ]
  },
  {
   "cell_type": "markdown",
   "metadata": {},
   "source": [
    "For `fastText`, I will start with a model trained with the [default fastText hyperparameters](https://fasttext.cc/docs/en/options.html), test its performance on a dev set, and see if it can be improved.\n",
    "\n",
    "```\n",
    "The following arguments for the dictionary are optional:\n",
    "  -minCount           minimal number of word occurrences [5]\n",
    "  -minCountLabel      minimal number of label occurrences [0]\n",
    "  -wordNgrams         max length of word ngram [1]\n",
    "  -bucket             number of buckets [2000000]\n",
    "  -minn               min length of char ngram [3]\n",
    "  -maxn               max length of char ngram [6]\n",
    "  -t                  sampling threshold [0.0001]\n",
    "  -label              labels prefix [__label__]\n",
    "\n",
    "  The following arguments for training are optional:\n",
    "  -lr                 learning rate [0.05]\n",
    "  -lrUpdateRate       change the rate of updates for the learning rate [100]\n",
    "  -dim                size of word vectors [100]\n",
    "  -ws                 size of the context window [5]\n",
    "  -epoch              number of epochs [5]\n",
    "  -neg                number of negatives sampled [5]\n",
    "  -loss               loss function {ns, hs, softmax} [ns]\n",
    "  -thread             number of threads [12]\n",
    "  -pretrainedVectors  pretrained word vectors for supervised learning []\n",
    "  -saveOutput         whether output params should be saved [0]\n",
    "```"
   ]
  },
  {
   "cell_type": "code",
   "execution_count": 13,
   "metadata": {},
   "outputs": [
    {
     "name": "stdout",
     "output_type": "stream",
     "text": [
      "CPU times: user 49 ms, sys: 21.4 ms, total: 70.4 ms\n",
      "Wall time: 3.67 s\n"
     ]
    }
   ],
   "source": [
    "%%time\n",
    "!./fastText_cmd/fasttext supervised -input {train_set} -output model_default.ft -loss hs 1> log_default.ft 2> err_default.ft"
   ]
  },
  {
   "cell_type": "code",
   "execution_count": 14,
   "metadata": {},
   "outputs": [
    {
     "name": "stdout",
     "output_type": "stream",
     "text": [
      "N\t1000\n",
      "P@1\t0.923\n",
      "R@1\t0.923\n",
      "Number of examples: 1000\n",
      "CPU times: user 4.1 ms, sys: 8.29 ms, total: 12.4 ms\n",
      "Wall time: 199 ms\n"
     ]
    }
   ],
   "source": [
    "%%time\n",
    "!./fastText_cmd/fasttext test model_default.ft.bin {dev_set}"
   ]
  },
  {
   "cell_type": "markdown",
   "metadata": {},
   "source": [
    "#### Hyperparameter grid search"
   ]
  },
  {
   "cell_type": "markdown",
   "metadata": {},
   "source": [
    "As mentioned earlier, it would be interesting to see how changing $n$ in word and character n-grams would affect a model's performance. For this, I will perform a brute-force grid search over a few possible values which intuitevly seem reasonable. (There is a problem with fixing the random seed due to parallel processing by `fastText`, so the observed differences in accuracy do not necessarily indicate a significant difference)."
   ]
  },
  {
   "cell_type": "code",
   "execution_count": 15,
   "metadata": {
    "collapsed": true
   },
   "outputs": [],
   "source": [
    "grid_train_set, grid_dev_set = train_set, dev_set"
   ]
  },
  {
   "cell_type": "code",
   "execution_count": 16,
   "metadata": {
    "collapsed": true
   },
   "outputs": [],
   "source": [
    "from sklearn.model_selection import ParameterGrid\n",
    "\n",
    "def grid_search(train, dev, save_best_model=False):\n",
    "    param_grid = [\n",
    "        {\n",
    "            'lr': [0.05],\n",
    "            'dim': [32, 128],\n",
    "            'ws': [5],\n",
    "            'epoch': [5],\n",
    "            'neg': [5],\n",
    "            'wordNgrams': [1, 2, 3],\n",
    "            'loss': ['hs'],\n",
    "            'maxn': [0, 6],\n",
    "            'minn': [0, 4],\n",
    "            'minCount': [2, 10],\n",
    "            'lrUpdateRate': [100],\n",
    "        }\n",
    "    ]\n",
    "    grid = list(ParameterGrid(param_grid))\n",
    "    grid_size = len(grid)\n",
    "    print('#Parameters:', grid_size)\n",
    "    best_result, best_params = -1, None\n",
    "    for i, p in enumerate(grid, start=1):\n",
    "        if i % (grid_size // 3) == 0:\n",
    "            print(\"{}/{}\".format(i, grid_size))\n",
    "        if p[\"maxn\"] < p[\"minn\"]:\n",
    "            continue\n",
    "        !./fastText_cmd/fasttext supervised -input {train} -output model_{i}.ft -epoch {p[\"epoch\"]} -dim {p[\"dim\"]} -minCount {p[\"minCount\"]} -neg {p[\"neg\"]} -lr {p[\"lr\"]} -ws {p[\"ws\"]} -wordNgrams {p[\"wordNgrams\"]} -loss {p[\"loss\"]} -lrUpdateRate {p[\"lrUpdateRate\"]} -maxn {p[\"maxn\"]} -minn {p[\"minn\"]} 1> ft.log 2> ft.err\n",
    "        _, pr, re, _ = !./fastText_cmd/fasttext test model_{i}.ft.bin {dev}\n",
    "        pr, re = [float(metric.split(\"\\t\")[1]) for metric in (pr, re)]\n",
    "        \n",
    "        if pr > best_result:\n",
    "            diff = {param: val for param, val in p.items()\n",
    "                    if val != best_params[param]} if best_params else None\n",
    "            print(\"==> Better:\\t{:.2%}\\t\".format(pr),\n",
    "                  sorted(diff.items()) if diff else sorted(p.items()))\n",
    "            best_params, best_result = p, pr\n",
    "            if save_best_model:\n",
    "                !mv model_{i}.ft.bin best_model.ft.bin\n",
    "                !mv model_{i}.ft.vec best_model.ft.vec\n",
    "                \n",
    "        !rm model_{i}.ft.bin\n",
    "        !rm model_{i}.ft.vec\n",
    "    return best_params"
   ]
  },
  {
   "cell_type": "code",
   "execution_count": 17,
   "metadata": {},
   "outputs": [
    {
     "name": "stdout",
     "output_type": "stream",
     "text": [
      "#Parameters: 48\n",
      "==> Better:\t86.30%\t [('dim', 32), ('epoch', 5), ('loss', 'hs'), ('lr', 0.05), ('lrUpdateRate', 100), ('maxn', 0), ('minCount', 2), ('minn', 0), ('neg', 5), ('wordNgrams', 1), ('ws', 5)]\n",
      "==> Better:\t91.10%\t [('minCount', 10)]\n",
      "16/48\n",
      "32/48\n",
      "48/48\n",
      "{'dim': 32, 'epoch': 5, 'loss': 'hs', 'lr': 0.05, 'lrUpdateRate': 100, 'maxn': 0, 'minCount': 10, 'minn': 0, 'neg': 5, 'wordNgrams': 1, 'ws': 5}\n"
     ]
    }
   ],
   "source": [
    "best_params = grid_search(grid_train_set, grid_dev_set)\n",
    "print(best_params)"
   ]
  },
  {
   "cell_type": "markdown",
   "metadata": {},
   "source": [
    "It seems that with the current amount of training data, character n-grams with $n$ from 3 to 6 perform best, while a unigram word model performs comparably to larger n-grams.\n",
    "\n",
    "Therefore, for the \"final\" model we will use the default parameters."
   ]
  },
  {
   "cell_type": "code",
   "execution_count": 18,
   "metadata": {
    "collapsed": true
   },
   "outputs": [],
   "source": [
    "model_final = \"model_default.ft.bin\""
   ]
  },
  {
   "cell_type": "markdown",
   "metadata": {},
   "source": [
    "## Evaluation"
   ]
  },
  {
   "cell_type": "markdown",
   "metadata": {},
   "source": [
    "For evaluation we will use the accuracy metric, overall and per each label."
   ]
  },
  {
   "cell_type": "code",
   "execution_count": 19,
   "metadata": {
    "collapsed": true
   },
   "outputs": [],
   "source": [
    "!cut -d \" \" -f2- {TEST_SET} > unlabel_{TEST_SET}"
   ]
  },
  {
   "cell_type": "code",
   "execution_count": 20,
   "metadata": {},
   "outputs": [
    {
     "name": "stdout",
     "output_type": "stream",
     "text": [
      "[('__label__bg', ['quot', 'европа', 'quot', 'не', 'трябва', 'да', 'стартира', 'нов', 'конкурентен', 'маратон', 'и', 'изход', 'с', 'приватизация']), ('__label__bg', ['cs', 'най', 'голямата', 'несправедливост', 'на', 'сегашната', 'обща', 'селскостопанска', 'политика', 'е', 'фактът', 'че', 'субсидиите', 'се', 'разпределят', 'неравностойно', 'и', 'несправедливо', 'между', 'старите', 'и', 'новите', 'държави', 'членки'])]\n",
      "CPU times: user 434 ms, sys: 97.9 ms, total: 532 ms\n",
      "Wall time: 531 ms\n"
     ]
    }
   ],
   "source": [
    "%%time\n",
    "gold_labels, test_sents = read_labeled_sents(TEST_SET)\n",
    "print(list(zip(gold_labels[:2], test_sents[:2])))\n",
    "baseline_pred_labels = baseline.predict(test_sents)"
   ]
  },
  {
   "cell_type": "code",
   "execution_count": 21,
   "metadata": {},
   "outputs": [
    {
     "name": "stdout",
     "output_type": "stream",
     "text": [
      "CPU times: user 128 ms, sys: 71.7 ms, total: 200 ms\n",
      "Wall time: 351 ms\n"
     ]
    }
   ],
   "source": [
    "%%time\n",
    "pred_labels = !./fastText_cmd/fasttext predict {model_final} unlabel_{TEST_SET}"
   ]
  },
  {
   "cell_type": "code",
   "execution_count": 22,
   "metadata": {},
   "outputs": [
    {
     "name": "stdout",
     "output_type": "stream",
     "text": [
      "BASELINE 10500 examples\n",
      "             precision    recall  f1-score   support\n",
      "\n",
      "        UNK      0.000     0.000     0.000         0\n",
      "__label__bg      1.000     0.999     0.999      1000\n",
      "__label__cs      0.948     0.949     0.949      1000\n",
      "__label__da      0.987     0.977     0.982      1000\n",
      "__label__de      0.985     0.999     0.992      1000\n",
      "__label__el      0.993     1.000     0.997      1000\n",
      "__label__en      0.985     0.999     0.992      1000\n",
      "__label__es      0.965     0.996     0.980      1000\n",
      "__label__et      0.993     0.955     0.973      1000\n",
      "__label__fi      0.976     0.973     0.974      1000\n",
      "__label__fr      0.992     0.990     0.991      1000\n",
      "__label__hu      0.984     0.994     0.989      1000\n",
      "__label__it      0.989     0.983     0.986      1000\n",
      "__label__lt      0.993     0.966     0.979      1000\n",
      "__label__lv      0.987     0.985     0.986      1000\n",
      "__label__nl      0.996     0.994     0.995      1000\n",
      "__label__pl      0.990     0.977     0.983      1000\n",
      "__label__pt      0.979     0.985     0.982      1000\n",
      "__label__ro      0.998     0.989     0.993      1000\n",
      "__label__sk      0.970     0.922     0.945      1000\n",
      "__label__sl      0.967     0.982     0.974      1000\n",
      "__label__sv      0.978     0.990     0.984      1000\n",
      "\n",
      "avg / total      0.984     0.981     0.982     21000\n",
      "\n",
      "FASTTEXT 10500 examples\n",
      "             precision    recall  f1-score   support\n",
      "\n",
      "__label__bg      1.000     0.978     0.989      1000\n",
      "__label__cs      0.912     0.900     0.906      1000\n",
      "__label__da      0.988     0.952     0.969      1000\n",
      "__label__de      0.981     0.989     0.985      1000\n",
      "__label__el      0.998     0.992     0.995      1000\n",
      "__label__en      0.993     0.967     0.980      1000\n",
      "__label__es      0.946     0.953     0.950      1000\n",
      "__label__et      0.951     0.909     0.929      1000\n",
      "__label__fi      0.863     0.954     0.906      1000\n",
      "__label__fr      0.977     0.958     0.967      1000\n",
      "__label__hu      0.947     0.945     0.946      1000\n",
      "__label__it      0.986     0.933     0.959      1000\n",
      "__label__lt      0.932     0.938     0.935      1000\n",
      "__label__lv      0.886     0.950     0.917      1000\n",
      "__label__nl      0.964     0.973     0.969      1000\n",
      "__label__pl      0.964     0.945     0.955      1000\n",
      "__label__pt      0.917     0.953     0.935      1000\n",
      "__label__ro      0.957     0.951     0.954      1000\n",
      "__label__sk      0.881     0.881     0.881      1000\n",
      "__label__sl      0.943     0.923     0.933      1000\n",
      "__label__sv      0.957     0.978     0.967      1000\n",
      "\n",
      "avg / total      0.950     0.949     0.949     21000\n",
      "\n"
     ]
    }
   ],
   "source": [
    "from sklearn.metrics import classification_report\n",
    "\n",
    "print(\"BASELINE\", MAX_LINES_PER_LANG * len(langs), \"examples\")\n",
    "print(classification_report(gold_labels, baseline_pred_labels, digits=3))\n",
    "\n",
    "print(\"FASTTEXT\", MAX_LINES_PER_LANG * len(langs), \"examples\")\n",
    "print(classification_report(gold_labels, pred_labels, digits=3))"
   ]
  },
  {
   "cell_type": "markdown",
   "metadata": {},
   "source": [
    "With the training set size of 500 * 21 = 10500 sentences, `fastText` is still behind the baseline model in terms of accuracy."
   ]
  },
  {
   "cell_type": "markdown",
   "metadata": {},
   "source": [
    "#### Training data size"
   ]
  },
  {
   "cell_type": "markdown",
   "metadata": {
    "collapsed": true
   },
   "source": [
    "Now, it would be interesting to see when exactly (on how much training data) the models start to perform reasonably well. The following is experiments on that, with the best/default parameters for fastText -- except for the minimum count of words which is set dynamically based on the training set size (and respective vocabulary size). Evaluation is performed on a dev set."
   ]
  },
  {
   "cell_type": "code",
   "execution_count": 23,
   "metadata": {
    "collapsed": true
   },
   "outputs": [],
   "source": [
    "%%capture\n",
    "from sklearn.metrics import accuracy_score\n",
    "from baseline import Baseline, read_labeled_sents\n",
    "\n",
    "dev_size = 300 * len(langs)\n",
    "dev_plot, train_plot = \"dev_plot.txt\", \"train_plot.txt\"\n",
    "!tail -n {dev_size} \"all_train_labeled_shuf.txt\" > {dev_plot}\n",
    "!cut -d \" \" -f2- {dev_plot} > unlabel_{dev_plot}\n",
    "\n",
    "dev_labels, dev_sents = read_labeled_sents(dev_plot)\n",
    "\n",
    "p = best_params if model_final != \"model_default.ft.bin\" else None\n",
    "acc_scores, acc_scores_base = [], []\n",
    "\n",
    "# will use minCount [1,2,10] based on the train set size\n",
    "n = len(langs)\n",
    "sizes = ([(i, 1) for i in range(1 * n, 50 * n, 25 * n)] +\n",
    "         [(i, 2) for i in range(150 * n, 500 * n, 30 * n)] +\n",
    "         [(i, 10) for i in range(501 * n, 5000 * n, 501 * n)])\n",
    "\n",
    "for size, min_count in sizes:\n",
    "    !head -n {size} \"all_train_labeled_shuf.txt\" > {train_plot}\n",
    "    try:\n",
    "        !./fastText_cmd/fasttext supervised -input {train_plot} -output model_{size}.ft -minCount {min_count} 2> tmp.log\n",
    "        preds = !./fastText_cmd/fasttext predict model_{size}.ft.bin unlabel_{dev_plot}\n",
    "        curr = accuracy_score(dev_labels, preds)\n",
    "        acc_scores.append(curr)\n",
    "        acc_scores_base.append(accuracy_score(\n",
    "            dev_labels, Baseline(train_plot, min_count=2).predict(dev_sents)));\n",
    "    except ValueError as e:\n",
    "        print(e)\n",
    "    finally:\n",
    "        !rm model_{size}.ft*"
   ]
  },
  {
   "cell_type": "code",
   "execution_count": 24,
   "metadata": {},
   "outputs": [
    {
     "data": {
      "image/png": "[encoded data removed]",
      "text/plain": [
       "<matplotlib.figure.Figure at 0x1a1341d908>"
      ]
     },
     "metadata": {},
     "output_type": "display_data"
    }
   ],
   "source": [
    "sizes, _ = zip(*sizes)\n",
    "plt.plot(sizes, acc_scores);\n",
    "plt.plot(sizes, acc_scores_base);\n",
    "plt.xscale(\"log\");\n",
    "plt.legend(['fastText', 'baseline']);\n",
    "plt.ylabel(\"accuracy\");\n",
    "plt.xlabel(\"log # of training examples\")\n",
    "plt.title(\"Evaluation on dev set\");"
   ]
  },
  {
   "cell_type": "code",
   "execution_count": 30,
   "metadata": {},
   "outputs": [
    {
     "name": "stdout",
     "output_type": "stream",
     "text": [
      "(21, 546, 3150, 3780, 4410, 5040, 5670, 6300, 6930, 7560, 8190, 8820, 9450, 10080, 10521, 21042, 31563, 42084, 52605, 63126, 73647, 84168, 94689)\n"
     ]
    }
   ],
   "source": [
    "print(sizes)"
   ]
  },
  {
   "cell_type": "markdown",
   "metadata": {},
   "source": [
    "A similar plot for the test set:"
   ]
  },
  {
   "cell_type": "code",
   "execution_count": 25,
   "metadata": {
    "collapsed": true
   },
   "outputs": [],
   "source": [
    "%%capture\n",
    "from sklearn.metrics import accuracy_score\n",
    "from baseline import Baseline, read_labeled_sents\n",
    "\n",
    "dev_labels, dev_sents = read_labeled_sents(TEST_SET)\n",
    "\n",
    "p = best_params if model_final != \"model_default.ft.bin\" else None\n",
    "acc_scores, acc_scores_base = [], []\n",
    "\n",
    "n = len(langs)\n",
    "sizes = ([(i, 1) for i in range(1 * n, 50 * n, 25 * n)] +\n",
    "         [(i, 2) for i in range(150 * n, 500 * n, 30 * n)] +\n",
    "         [(i, 5) for i in range(501 * n, 5000 * n, 501 * n)])\n",
    "\n",
    "for size, min_count in sizes:\n",
    "    !head -n {size} \"all_train_labeled_shuf.txt\" > {train_plot}\n",
    "    try:\n",
    "        !./fastText_cmd/fasttext supervised -input {train_plot} -output model_{size}.ft -minCount {min_count} 2> tmp.log\n",
    "        preds = !./fastText_cmd/fasttext predict model_{size}.ft.bin unlabel_{TEST_SET}\n",
    "        curr = accuracy_score(dev_labels, preds)\n",
    "        acc_scores.append(curr)\n",
    "        acc_scores_base.append(accuracy_score(dev_labels, Baseline(train_plot, min_count=2).predict(dev_sents)));\n",
    "    except ValueError as e:\n",
    "        print(e)\n",
    "    finally:\n",
    "        !rm model_{size}.ft*"
   ]
  },
  {
   "cell_type": "code",
   "execution_count": 26,
   "metadata": {},
   "outputs": [
    {
     "data": {
      "image/png": "[encoded data removed]",
      "text/plain": [
       "<matplotlib.figure.Figure at 0x1a0fa96518>"
      ]
     },
     "metadata": {},
     "output_type": "display_data"
    }
   ],
   "source": [
    "sizes, _ = zip(*sizes)\n",
    "plt.plot(sizes, acc_scores);\n",
    "plt.plot(sizes, acc_scores_base);\n",
    "plt.xscale(\"log\");\n",
    "plt.legend(['fastText', 'baseline']);\n",
    "plt.ylabel(\"accuracy\");\n",
    "plt.xlabel(\"log # of training examples\")\n",
    "plt.title(\"Evaluation on test set\");"
   ]
  },
  {
   "cell_type": "markdown",
   "metadata": {},
   "source": [
    "Final evaluation of a `fastText` model trained on a large-scale dataset (using hierarchical softmax) with 7.6M lines:"
   ]
  },
  {
   "cell_type": "code",
   "execution_count": 27,
   "metadata": {},
   "outputs": [
    {
     "name": "stdout",
     "output_type": "stream",
     "text": [
      "Lines in train: 7664366\n",
      "Lines in dev: 2\n"
     ]
    }
   ],
   "source": [
    "train_set, _ = prep_data(None, 2, name=\"large\")"
   ]
  },
  {
   "cell_type": "code",
   "execution_count": 28,
   "metadata": {},
   "outputs": [
    {
     "name": "stdout",
     "output_type": "stream",
     "text": [
      "\n",
      "CPU times: user 3.23 s, sys: 877 ms, total: 4.11 s\n",
      "Wall time: 3min 30s\n"
     ]
    }
   ],
   "source": [
    "%%time\n",
    "!./fastText_cmd/fasttext supervised -input {train_set} -output model_large.ft -loss hs 1> log_large.log 2> err_large.log\n",
    "print(\"\")"
   ]
  },
  {
   "cell_type": "code",
   "execution_count": 29,
   "metadata": {},
   "outputs": [
    {
     "name": "stdout",
     "output_type": "stream",
     "text": [
      "N\t21000\r\n",
      "P@1\t0.999\r\n",
      "R@1\t0.999\r\n",
      "Number of examples: 21000\r\n"
     ]
    }
   ],
   "source": [
    "!./fastText_cmd/fasttext test model_large.ft.bin {TEST_SET}\n",
    "!rm model_large.ft.*"
   ]
  },
  {
   "cell_type": "markdown",
   "metadata": {
    "collapsed": true
   },
   "source": [
    "## Conclusions"
   ]
  },
  {
   "cell_type": "markdown",
   "metadata": {
    "collapsed": true
   },
   "source": [
    "The goal of the challenge is to train a model to classify sentences as belonging to one of 21 languages spoken in the EU, based on the provided training (7.6M sentences) and test (21k lines/sentences) sets taken from the EuroParl corpus, so both of the sets are from the same domain.\n",
    "\n",
    "For this task, the training corpus is processed in such a way that only documents available in all the 21 languages are sampled (to avoid classification based on textual topics), i.e., only its parallel multilingual subcorpus; lines are split further into sentences (punctuation based), sentences are deduplicated, tokenized (with a non language-specific tokenizer), and stripped from punctuation and digits.\n",
    "\n",
    "We compare two possible ways of language identification based on lexical features (words):\n",
    "1. baseline: a basic dictionary approach, where each unique token from a training corpus is assigned the most frequent language tag, so while predicting, a sentence is represented as a sequence of labels corresponding to constituent words, and the majority label is chosen as the final language tag;\n",
    "2. `fastText`: a bag-of-words logistic regression classifier calculating sentence representations based on subword vectors.\n",
    "\n",
    "On a limited subset of training corpora, baseline outperforms `fastText` (accuracy 98% and 95%, respectively), but the latter is much faster.\n",
    "\n",
    "Finally, experiments were undertaken to see the effect of adding more training data. Although `fastText` generally does not outperform the baseline model on datasets less with than 10k sentences (or ~500 instances per class), its accuracy increases dramatically when trained on larger corpora, with 99.9% for the entire training dataset."
   ]
  },
  {
   "cell_type": "code",
   "execution_count": null,
   "metadata": {
    "collapsed": true
   },
   "outputs": [],
   "source": []
  }
 ],
 "metadata": {
  "kernelspec": {
   "display_name": "Python 3",
   "language": "python",
   "name": "python3"
  },
  "language_info": {
   "codemirror_mode": {
    "name": "ipython",
    "version": 3
   },
   "file_extension": ".py",
   "mimetype": "text/x-python",
   "name": "python",
   "nbconvert_exporter": "python",
   "pygments_lexer": "ipython3",
   "version": "3.6.3"
  }
 },
 "nbformat": 4,
 "nbformat_minor": 2
}
